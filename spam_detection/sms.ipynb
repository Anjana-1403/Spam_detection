{
 "cells": [
  {
   "cell_type": "code",
   "execution_count": 64,
   "metadata": {},
   "outputs": [],
   "source": [
    "import pandas as pd\n",
    "import numpy as np\n",
    "import matplotlib as plt"
   ]
  },
  {
   "cell_type": "code",
   "execution_count": 65,
   "metadata": {},
   "outputs": [],
   "source": [
    "from sklearn.metrics import accuracy_score\n",
    "from sklearn.model_selection import train_test_split\n",
    "from sklearn.linear_model import LogisticRegression\n",
    "from sklearn.preprocessing import StandardScaler,LabelEncoder\n",
    "from sklearn.feature_extraction.text import CountVectorizer"
   ]
  },
  {
   "cell_type": "code",
   "execution_count": 66,
   "metadata": {},
   "outputs": [],
   "source": [
    "df=pd.read_csv(r\"D:\\CODSOFT\\task2\\spam.csv\",encoding='latin-1')\n"
   ]
  },
  {
   "cell_type": "code",
   "execution_count": 67,
   "metadata": {},
   "outputs": [],
   "source": [
    "df=df.rename(columns={\"v1\":\"label\",\"v2\":\"text\"})\n",
    "df['label']=df['label'].map({'ham':0,'spam':1})\n",
    "\n",
    "\n"
   ]
  },
  {
   "cell_type": "code",
   "execution_count": 68,
   "metadata": {},
   "outputs": [],
   "source": [
    "from sklearn.feature_extraction.text import CountVectorizer\n",
    "v=CountVectorizer(stop_words='english')\n",
    "x=v.fit_transform(df['text'])\n",
    "y=df['label']"
   ]
  },
  {
   "cell_type": "code",
   "execution_count": 69,
   "metadata": {},
   "outputs": [],
   "source": [
    "xt,xv,yt,yv=train_test_split(x,y,test_size=0.3)\n",
    "model=LogisticRegression()"
   ]
  },
  {
   "cell_type": "code",
   "execution_count": 70,
   "metadata": {},
   "outputs": [
    {
     "name": "stdout",
     "output_type": "stream",
     "text": [
      "0.9826555023923444\n"
     ]
    }
   ],
   "source": [
    "model.fit(xt,yt)\n",
    "ypred=model.predict(xv)\n",
    "accuracy=accuracy_score(yv,ypred)\n",
    "print(accuracy)"
   ]
  },
  {
   "cell_type": "code",
   "execution_count": 71,
   "metadata": {},
   "outputs": [
    {
     "name": "stdout",
     "output_type": "stream",
     "text": [
      "\n",
      "The message is classified as: spam\n"
     ]
    }
   ],
   "source": [
    "sms = input(\"Enter the sms you want to send: \")\n",
    "sms_vectorizer = v.transform([sms])\n",
    "res = model.predict(sms_vectorizer)\n",
    "if res == 1:\n",
    "    sms_label = 'spam'\n",
    "else:\n",
    "    sms_label = 'ham'\n",
    "print(\"\\nThe message is classified as:\", sms_label)"
   ]
  }
 ],
 "metadata": {
  "kernelspec": {
   "display_name": "anjana",
   "language": "python",
   "name": "python3"
  },
  "language_info": {
   "codemirror_mode": {
    "name": "ipython",
    "version": 3
   },
   "file_extension": ".py",
   "mimetype": "text/x-python",
   "name": "python",
   "nbconvert_exporter": "python",
   "pygments_lexer": "ipython3",
   "version": "3.10.11"
  }
 },
 "nbformat": 4,
 "nbformat_minor": 2
}
